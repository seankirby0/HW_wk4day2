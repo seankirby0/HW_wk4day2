{
 "cells": [
  {
   "cell_type": "code",
   "execution_count": null,
   "id": "9876f2be",
   "metadata": {},
   "outputs": [],
   "source": [
    "You are given the array paths, where paths[i] = [cityAi, cityBi] means there exists a direct path going from cityAi to \n",
    "cityBi. Return the destination city, that is, the city without any path outgoing to another city.\n",
    "It is guaranteed that the graph of paths forms a line without any loop, therefore, there will be exactly one destination \n",
    "city.\n",
    "Ex.1\n",
    "Input: paths = [[\"London\",\"New York\"],[\"New York\",\"Lima\"],[\"Lima\",\"Sao Paulo\"]]\n",
    "Output: \"Sao Paulo\" \n",
    "Explanation: Starting at \"London\" city you will reach \"Sao Paulo\" city which is the destination city. Your trip consist of: \"London\" -> \"New York\" -> \"Lima\" -> \"Sao Paulo\".\n",
    "Ex.2\n",
    "Input: paths = [[\"B\",\"C\"],[\"D\",\"B\"],[\"C\",\"A\"]]\n",
    "Output: \"A\"\n",
    "Explanation: All possible trips are: \n",
    "\"D\" -> \"B\" -> \"C\" -> \"A\". \n",
    "\"B\" -> \"C\" -> \"A\". \n",
    "\"C\" -> \"A\". \n",
    "\"A\". \n",
    "Clearly the destination city is \"A\".\n",
    "Ex.3\n",
    "Input: paths = [[\"A\",\"Z\"]]\n",
    "Output: \"Z\""
   ]
  },
  {
   "cell_type": "code",
   "execution_count": 1,
   "id": "2b5ac455",
   "metadata": {},
   "outputs": [
    {
     "name": "stdout",
     "output_type": "stream",
     "text": [
      "Sao Paulo\n"
     ]
    }
   ],
   "source": [
    "def city(x):\n",
    "    for (i) in x:\n",
    "        \n",
    "        for j in x:\n",
    "            if i [1] == j [0]:\n",
    "                break\n",
    "                \n",
    "        else:\n",
    "            print(i[1])\n",
    "        \n",
    "    return\n",
    "city([[\"London\",\"New York\"],[\"New York\",\"Lima\"],[\"Lima\",\"Sao Paulo\"]])"
   ]
  },
  {
   "cell_type": "code",
   "execution_count": null,
   "id": "ec2084ac",
   "metadata": {},
   "outputs": [],
   "source": [
    "#SHOHA ANSWER\n",
    "def destCity(paths):\n",
    "        cityA = set()\n",
    "        cityB = set()\n",
    "        for pair in paths:\n",
    "            cityA.add(pair[0])\n",
    "            cityB.add(pair[1])\n",
    "        diff = cityB.difference(cityA)\n",
    "        return diff.pop()"
   ]
  }
 ],
 "metadata": {
  "kernelspec": {
   "display_name": "Python 3",
   "language": "python",
   "name": "python3"
  },
  "language_info": {
   "codemirror_mode": {
    "name": "ipython",
    "version": 3
   },
   "file_extension": ".py",
   "mimetype": "text/x-python",
   "name": "python",
   "nbconvert_exporter": "python",
   "pygments_lexer": "ipython3",
   "version": "3.8.8"
  }
 },
 "nbformat": 4,
 "nbformat_minor": 5
}
